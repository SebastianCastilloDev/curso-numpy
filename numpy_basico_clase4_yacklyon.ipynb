{
  "nbformat": 4,
  "nbformat_minor": 0,
  "metadata": {
    "colab": {
      "provenance": [],
      "authorship_tag": "ABX9TyMbf6suxlIPWCNNleGgcPQz",
      "include_colab_link": true
    },
    "kernelspec": {
      "name": "python3",
      "display_name": "Python 3"
    },
    "language_info": {
      "name": "python"
    }
  },
  "cells": [
    {
      "cell_type": "markdown",
      "metadata": {
        "id": "view-in-github",
        "colab_type": "text"
      },
      "source": [
        "<a href=\"https://colab.research.google.com/github/SebastianCastilloDev/curso-numpy/blob/main/numpy_basico_clase4_yacklyon.ipynb\" target=\"_parent\"><img src=\"https://colab.research.google.com/assets/colab-badge.svg\" alt=\"Open In Colab\"/></a>"
      ]
    },
    {
      "cell_type": "code",
      "execution_count": null,
      "metadata": {
        "colab": {
          "base_uri": "https://localhost:8080/"
        },
        "id": "IXkJt20zGnZ8",
        "outputId": "5a6c4dc1-8819-4f8b-cd64-ac35d56e5b5c"
      },
      "outputs": [
        {
          "output_type": "stream",
          "name": "stdout",
          "text": [
            "[1 2 3 4 5]\n"
          ]
        }
      ],
      "source": [
        "import numpy as np\n",
        "matriz = np.array([1,2,3,4,5])\n",
        "lista.append(8)\n",
        "\n",
        "print(matriz)"
      ]
    },
    {
      "cell_type": "code",
      "source": [
        "a = np.array([1,2,3])\n",
        "b = np.array([4,5,6])\n",
        "print(a+b)\n",
        "print(a*b)"
      ],
      "metadata": {
        "colab": {
          "base_uri": "https://localhost:8080/"
        },
        "id": "K94vFvrhVMbb",
        "outputId": "54aed188-a446-461c-e3c6-94fbc4915802"
      },
      "execution_count": null,
      "outputs": [
        {
          "output_type": "stream",
          "name": "stdout",
          "text": [
            "[5 7 9]\n",
            "[ 4 10 18]\n"
          ]
        }
      ]
    },
    {
      "cell_type": "code",
      "source": [],
      "metadata": {
        "id": "rborgHOkZMSx"
      },
      "execution_count": null,
      "outputs": []
    }
  ]
}