{
  "nbformat": 4,
  "nbformat_minor": 0,
  "metadata": {
    "colab": {
      "provenance": [],
      "authorship_tag": "ABX9TyN6mo50mp2RqwinrPmYkTcD",
      "include_colab_link": true
    },
    "kernelspec": {
      "name": "python3",
      "display_name": "Python 3"
    },
    "language_info": {
      "name": "python"
    }
  },
  "cells": [
    {
      "cell_type": "markdown",
      "metadata": {
        "id": "view-in-github",
        "colab_type": "text"
      },
      "source": [
        "<a href=\"https://colab.research.google.com/github/SebastianCastilloDev/curso-numpy/blob/main/numpy_basico_clase6_yacklyon.ipynb\" target=\"_parent\"><img src=\"https://colab.research.google.com/assets/colab-badge.svg\" alt=\"Open In Colab\"/></a>"
      ]
    },
    {
      "cell_type": "code",
      "execution_count": 5,
      "metadata": {
        "colab": {
          "base_uri": "https://localhost:8080/"
        },
        "id": "IXkJt20zGnZ8",
        "outputId": "f7e00310-d9ae-4345-e861-b73f2c6fbf12"
      },
      "outputs": [
        {
          "output_type": "stream",
          "name": "stdout",
          "text": [
            "22\n",
            "[[ 0  1  2  3  4  5]\n",
            " [ 6  7  8  9 10 11]\n",
            " [12 13 14 15 16 17]\n",
            " [18 19 20 21 22 23]]\n",
            "[ 2  3  4  5  5  6  8 78]\n",
            "[ 8 27]\n",
            "[4 9]\n",
            "[False False  True  True  True  True]\n"
          ]
        }
      ],
      "source": [
        "import numpy as np\n",
        "m = np.arange(24).reshape(4,6)\n",
        "print(m [3,4])\n",
        "print(m)\n",
        "\n",
        "m1 = np.array([2,5,6,78,8,5,4,3])\n",
        "print(np.sort(m1))\n",
        "\n",
        "m1 = np.array([2,3])\n",
        "print(np.power(m1,3)) #elevar cada elemento al cubo\n",
        "\n",
        "print(np.array(m1**2))\n",
        "\n",
        "m1 = np.array([2,3,4,5,6,7])\n",
        "print(np.array(m1>=4))"
      ]
    }
  ]
}